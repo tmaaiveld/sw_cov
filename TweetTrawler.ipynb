{
 "cells": [
  {
   "cell_type": "code",
   "execution_count": 1,
   "metadata": {
    "hideCode": false,
    "hidePrompt": false
   },
   "outputs": [
    {
     "name": "stdout",
     "output_type": "stream",
     "text": [
      "Requirement already satisfied: pyarrow in c:\\users\\tommy\\anaconda3\\lib\\site-packages (0.16.0)\n",
      "Requirement already satisfied: numpy>=1.14 in c:\\users\\tommy\\anaconda3\\lib\\site-packages (from pyarrow) (1.16.2)\n",
      "Requirement already satisfied: six>=1.0.0 in c:\\users\\tommy\\anaconda3\\lib\\site-packages (from pyarrow) (1.14.0)\n"
     ]
    },
    {
     "name": "stderr",
     "output_type": "stream",
     "text": [
      "Error processing line 7 of c:\\users\\tommy\\anaconda3\\lib\\site-packages\\pywin32.pth:\n",
      "\n",
      "  Traceback (most recent call last):\n",
      "    File \"c:\\users\\tommy\\anaconda3\\lib\\site.py\", line 168, in addpackage\n",
      "      exec(line)\n",
      "    File \"<string>\", line 1, in <module>\n",
      "  ModuleNotFoundError: No module named 'pywin32_bootstrap'\n",
      "\n",
      "Remainder of file ignored\n"
     ]
    },
    {
     "name": "stdout",
     "output_type": "stream",
     "text": [
      "Requirement already satisfied: jupyternotify in c:\\users\\tommy\\anaconda3\\lib\\site-packages (0.1.15)\n",
      "Requirement already satisfied: ipython in c:\\users\\tommy\\anaconda3\\lib\\site-packages (from jupyternotify) (7.4.0)\n",
      "Requirement already satisfied: jupyter in c:\\users\\tommy\\anaconda3\\lib\\site-packages (from jupyternotify) (1.0.0)\n",
      "Requirement already satisfied: pickleshare in c:\\users\\tommy\\anaconda3\\lib\\site-packages (from ipython->jupyternotify) (0.7.5)\n",
      "Requirement already satisfied: traitlets>=4.2 in c:\\users\\tommy\\anaconda3\\lib\\site-packages (from ipython->jupyternotify) (4.3.3)\n",
      "Requirement already satisfied: setuptools>=18.5 in c:\\users\\tommy\\anaconda3\\lib\\site-packages (from ipython->jupyternotify) (45.1.0)\n",
      "Requirement already satisfied: prompt-toolkit<2.1.0,>=2.0.0 in c:\\users\\tommy\\anaconda3\\lib\\site-packages (from ipython->jupyternotify) (2.0.10)\n",
      "Requirement already satisfied: decorator in c:\\users\\tommy\\anaconda3\\lib\\site-packages (from ipython->jupyternotify) (4.4.1)\n",
      "Requirement already satisfied: backcall in c:\\users\\tommy\\anaconda3\\lib\\site-packages (from ipython->jupyternotify) (0.1.0)\n",
      "Requirement already satisfied: colorama; sys_platform == \"win32\" in c:\\users\\tommy\\anaconda3\\lib\\site-packages (from ipython->jupyternotify) (0.4.1)\n",
      "Requirement already satisfied: jedi>=0.10 in c:\\users\\tommy\\anaconda3\\lib\\site-packages (from ipython->jupyternotify) (0.14.1)\n",
      "Requirement already satisfied: pygments in c:\\users\\tommy\\anaconda3\\lib\\site-packages (from ipython->jupyternotify) (2.5.2)\n",
      "Requirement already satisfied: jupyter-console in c:\\users\\tommy\\anaconda3\\lib\\site-packages (from jupyter->jupyternotify) (6.0.0)\n",
      "Requirement already satisfied: qtconsole in c:\\users\\tommy\\anaconda3\\lib\\site-packages (from jupyter->jupyternotify) (4.6.0)\n",
      "Requirement already satisfied: ipywidgets in c:\\users\\tommy\\anaconda3\\lib\\site-packages (from jupyter->jupyternotify) (7.5.1)\n",
      "Requirement already satisfied: notebook in c:\\users\\tommy\\anaconda3\\lib\\site-packages (from jupyter->jupyternotify) (5.7.8)\n",
      "Requirement already satisfied: ipykernel in c:\\users\\tommy\\anaconda3\\lib\\site-packages (from jupyter->jupyternotify) (5.1.0)\n",
      "Requirement already satisfied: nbconvert in c:\\users\\tommy\\anaconda3\\lib\\site-packages (from jupyter->jupyternotify) (5.4.1)\n",
      "Requirement already satisfied: ipython-genutils in c:\\users\\tommy\\anaconda3\\lib\\site-packages (from traitlets>=4.2->ipython->jupyternotify) (0.2.0)\n",
      "Requirement already satisfied: six in c:\\users\\tommy\\anaconda3\\lib\\site-packages (from traitlets>=4.2->ipython->jupyternotify) (1.14.0)\n",
      "Requirement already satisfied: wcwidth in c:\\users\\tommy\\anaconda3\\lib\\site-packages (from prompt-toolkit<2.1.0,>=2.0.0->ipython->jupyternotify) (0.1.8)\n",
      "Requirement already satisfied: parso>=0.5.0 in c:\\users\\tommy\\anaconda3\\lib\\site-packages (from jedi>=0.10->ipython->jupyternotify) (0.5.2)\n",
      "Requirement already satisfied: jupyter_client in c:\\users\\tommy\\anaconda3\\lib\\site-packages (from jupyter-console->jupyter->jupyternotify) (5.3.4)\n",
      "Requirement already satisfied: jupyter-core in c:\\users\\tommy\\anaconda3\\lib\\site-packages (from qtconsole->jupyter->jupyternotify) (4.6.1)\n",
      "Requirement already satisfied: nbformat>=4.2.0 in c:\\users\\tommy\\anaconda3\\lib\\site-packages (from ipywidgets->jupyter->jupyternotify) (4.4.0)\n",
      "Requirement already satisfied: widgetsnbextension~=3.5.0 in c:\\users\\tommy\\anaconda3\\lib\\site-packages (from ipywidgets->jupyter->jupyternotify) (3.5.1)\n",
      "Requirement already satisfied: prometheus-client in c:\\users\\tommy\\anaconda3\\lib\\site-packages (from notebook->jupyter->jupyternotify) (0.7.1)\n",
      "Requirement already satisfied: jinja2 in c:\\users\\tommy\\anaconda3\\lib\\site-packages (from notebook->jupyter->jupyternotify) (2.10)\n",
      "Requirement already satisfied: Send2Trash in c:\\users\\tommy\\anaconda3\\lib\\site-packages (from notebook->jupyter->jupyternotify) (1.5.0)\n",
      "Requirement already satisfied: terminado>=0.8.1 in c:\\users\\tommy\\anaconda3\\lib\\site-packages (from notebook->jupyter->jupyternotify) (0.8.1)\n",
      "Requirement already satisfied: pyzmq>=17 in c:\\users\\tommy\\anaconda3\\lib\\site-packages (from notebook->jupyter->jupyternotify) (18.1.1)\n",
      "Requirement already satisfied: tornado<7,>=4.1 in c:\\users\\tommy\\anaconda3\\lib\\site-packages (from notebook->jupyter->jupyternotify) (6.0.3)\n",
      "Requirement already satisfied: mistune>=0.8.1 in c:\\users\\tommy\\anaconda3\\lib\\site-packages (from nbconvert->jupyter->jupyternotify) (0.8.4)\n",
      "Requirement already satisfied: entrypoints>=0.2.2 in c:\\users\\tommy\\anaconda3\\lib\\site-packages (from nbconvert->jupyter->jupyternotify) (0.3)\n",
      "Requirement already satisfied: bleach in c:\\users\\tommy\\anaconda3\\lib\\site-packages (from nbconvert->jupyter->jupyternotify) (3.1.0)\n",
      "Requirement already satisfied: pandocfilters>=1.4.1 in c:\\users\\tommy\\anaconda3\\lib\\site-packages (from nbconvert->jupyter->jupyternotify) (1.4.2)\n",
      "Requirement already satisfied: testpath in c:\\users\\tommy\\anaconda3\\lib\\site-packages (from nbconvert->jupyter->jupyternotify) (0.4.4)\n",
      "Requirement already satisfied: defusedxml in c:\\users\\tommy\\anaconda3\\lib\\site-packages (from nbconvert->jupyter->jupyternotify) (0.5.0)\n",
      "Requirement already satisfied: pywin32>=1.0; sys_platform == \"win32\" in c:\\users\\tommy\\anaconda3\\lib\\site-packages (from jupyter_client->jupyter-console->jupyter->jupyternotify) (227)\n",
      "Requirement already satisfied: python-dateutil>=2.1 in c:\\users\\tommy\\anaconda3\\lib\\site-packages (from jupyter_client->jupyter-console->jupyter->jupyternotify) (2.8.1)\n",
      "Requirement already satisfied: jsonschema!=2.5.0,>=2.4 in c:\\users\\tommy\\anaconda3\\lib\\site-packages (from nbformat>=4.2.0->ipywidgets->jupyter->jupyternotify) (3.0.1)\n",
      "Requirement already satisfied: MarkupSafe>=0.23 in c:\\users\\tommy\\anaconda3\\lib\\site-packages (from jinja2->notebook->jupyter->jupyternotify) (1.1.1)\n",
      "Requirement already satisfied: webencodings in c:\\users\\tommy\\anaconda3\\lib\\site-packages (from bleach->nbconvert->jupyter->jupyternotify) (0.5.1)\n",
      "Requirement already satisfied: attrs>=17.4.0 in c:\\users\\tommy\\anaconda3\\lib\\site-packages (from jsonschema!=2.5.0,>=2.4->nbformat>=4.2.0->ipywidgets->jupyter->jupyternotify) (19.3.0)\n",
      "Requirement already satisfied: pyrsistent>=0.14.0 in c:\\users\\tommy\\anaconda3\\lib\\site-packages (from jsonschema!=2.5.0,>=2.4->nbformat>=4.2.0->ipywidgets->jupyter->jupyternotify) (0.15.7)\n"
     ]
    },
    {
     "name": "stderr",
     "output_type": "stream",
     "text": [
      "Error processing line 7 of c:\\users\\tommy\\anaconda3\\lib\\site-packages\\pywin32.pth:\n",
      "\n",
      "  Traceback (most recent call last):\n",
      "    File \"c:\\users\\tommy\\anaconda3\\lib\\site.py\", line 168, in addpackage\n",
      "      exec(line)\n",
      "    File \"<string>\", line 1, in <module>\n",
      "  ModuleNotFoundError: No module named 'pywin32_bootstrap'\n",
      "\n",
      "Remainder of file ignored\n"
     ]
    },
    {
     "data": {
      "application/javascript": [
       "if (!(\"Notification\" in window)) {\n",
       "    alert(\"This browser does not support desktop notifications, so the %%notify magic will not work.\");\n",
       "} else if (Notification.permission !== 'granted' && Notification.permission !== 'denied') {\n",
       "    Notification.requestPermission(function (permission) {\n",
       "        if(!('permission' in Notification)) {\n",
       "            Notification.permission = permission;\n",
       "        }\n",
       "    })\n",
       "}\n"
      ],
      "text/plain": [
       "<IPython.core.display.Javascript object>"
      ]
     },
     "metadata": {},
     "output_type": "display_data"
    }
   ],
   "source": [
    "import sys\n",
    "import platform\n",
    "import json\n",
    "import pickle\n",
    "import time\n",
    "\n",
    "from pathlib import Path\n",
    "import tweepy\n",
    "import numpy as np\n",
    "import pandas as pd\n",
    "from geopy.geocoders import Nominatim\n",
    "import gmplot\n",
    "\n",
    "import configparser\n",
    "\n",
    "tweepy.debug(True) # show the rate limit information\n",
    "\n",
    "DATA_DIR = Path('data')\n",
    "RESULTS_PER_QUERY = 100 \n",
    "\n",
    "# needed for .parquet files\n",
    "!pip install pyarrow \n",
    "!pip install jupyternotify\n",
    "\n",
    "%load_ext jupyternotify"
   ]
  },
  {
   "cell_type": "markdown",
   "metadata": {
    "hideCode": false,
    "hidePrompt": false
   },
   "source": [
    "Note: The Twitter API is rate-limited to a certain number of calls per 15 minute block. If the API returns error code 429, you've called too often. Avoid calling tweepy unless you need to. Once Tweepy is running it will manage the rate limit, so if you're searching 5,000+ tweets it will take more than 15 minutes to complete. \n",
    "\n",
    "Setting `tweepy.debug(True)` will print information on rate limit and more. Divide the number of tweets by 100 to get the number of API calls needed. Tweepy shouldn't crash while if it hits the limit in process, but halt before breaking the limit. Be careful when initializing a new search, as Tweepy will return an error if you've reached the limit, crashing your script. "
   ]
  },
  {
   "cell_type": "markdown",
   "metadata": {
    "hideCode": false,
    "hidePrompt": false
   },
   "source": [
    "Make sure you set your access keys correctly in `config.ini`. This file is ignored by git, so you have to make one yourself. Don't add your info to Git here. You can set `run_cell=False` to prevent the file from being overwritten once you have it configured (or just remove this cell)."
   ]
  },
  {
   "cell_type": "code",
   "execution_count": 2,
   "metadata": {
    "hideCode": false,
    "hidePrompt": false
   },
   "outputs": [],
   "source": [
    "run_cell = False # set this to True to write the config file, back to false to prevent erasing your info.\n",
    "\n",
    "if run_cell:\n",
    "    with open('config.ini', 'w') as f:\n",
    "\n",
    "        f.write(\n",
    "            \"[twitter] \\n\" +\n",
    "            \"consumer_key = <YOUR INFO HERE> \\n\" +\n",
    "            \"consumer_secret = <YOUR INFO HERE> \\n\" + \n",
    "            \"\\n\" +\n",
    "            \"access_token = <YOUR INFO HERE> \\n\" +\n",
    "            \"access_token_secret = <YOUR INFO HERE>\"\n",
    "        )\n",
    "\n",
    "        f.close()"
   ]
  },
  {
   "cell_type": "markdown",
   "metadata": {
    "hideCode": false,
    "hidePrompt": false
   },
   "source": [
    "# API"
   ]
  },
  {
   "cell_type": "markdown",
   "metadata": {
    "hideCode": false,
    "hidePrompt": false
   },
   "source": [
    "First, set up the API so it can collect. Make sure your access tokens etc. are configured correctly."
   ]
  },
  {
   "cell_type": "code",
   "execution_count": 3,
   "metadata": {
    "hideCode": false,
    "hidePrompt": false
   },
   "outputs": [],
   "source": [
    "def get_api(cfg_path='./config.ini'):\n",
    "\n",
    "    # Read config file\n",
    "    Config = configparser.ConfigParser()\n",
    "    Config.read(cfg_path)\n",
    "\n",
    "    auth = tweepy.auth.OAuthHandler(\n",
    "            Config.get(\"twitter\", \"consumer_key\"),\n",
    "            Config.get(\"twitter\", \"consumer_secret\")\n",
    "        )\n",
    "    auth.set_access_token(\n",
    "            Config.get(\"twitter\", \"access_token\"),\n",
    "            Config.get(\"twitter\", \"access_token_secret\")\n",
    "        )\n",
    "    \n",
    "    api = tweepy.API(auth, wait_on_rate_limit=True, wait_on_rate_limit_notify=True)\n",
    "    \n",
    "    return api"
   ]
  },
  {
   "cell_type": "markdown",
   "metadata": {
    "hideCode": false,
    "hidePrompt": false
   },
   "source": [
    "# TweetTrawler"
   ]
  },
  {
   "cell_type": "markdown",
   "metadata": {
    "hideCode": false,
    "hidePrompt": false
   },
   "source": [
    "Make an object to handle calls to the API. The data are stored to separate pickle files (`data/*.pkl`). Once trawling is complete, use `TweetTrawler.gather_to_csv()` to gather up the pickle files and build a dataframe, which is written to csv."
   ]
  },
  {
   "cell_type": "code",
   "execution_count": null,
   "metadata": {
    "hideCode": false,
    "hidePrompt": false,
    "scrolled": true
   },
   "outputs": [],
   "source": [
    "class TweetTrawler:\n",
    "    \n",
    "    def __init__(self, api, data_dir=DATA_DIR):\n",
    "        self.api = api\n",
    "        self.dir = data_dir\n",
    "        data_dir.mkdir(exist_ok=True, parents=True)\n",
    "    \n",
    "    def search(self, query, dates, n_tweets, lang, results_type, tweets_mode, **kwargs):\n",
    "        \n",
    "        since, until = dates\n",
    "            \n",
    "        print(f'\\n\\n*** RETRIEVING {n_tweets}>= {results_type.upper()} RESULTS FROM {since} TO {until} ***\\n\\n')\n",
    "        time.sleep(.5)\n",
    "\n",
    "        tweets = list(tweepy.Cursor(api.search, q=query, count=RESULTS_PER_QUERY, lang=lang,\n",
    "                                    since=since, until=until,\n",
    "                                    results_type=results_type, tweet_mode=tweets_mode).items(n_tweets))\n",
    "\n",
    "        df = pd.json_normalize([status._json for status in tweets])\n",
    "\n",
    "        df.index = pd.to_datetime(df['created_at'].astype(str))\n",
    "        \n",
    "        # save the data\n",
    "        filename = self.dir / f'{query}_{since[-2:]}_to_{until[-2:]}_{results_type}'\n",
    "        df.to_pickle(f'{filename}.pkl')\n",
    "        df.to_csv(f'{filename}.csv')"
   ]
  },
  {
   "cell_type": "markdown",
   "metadata": {
    "hideCode": false,
    "hidePrompt": false
   },
   "source": [
    "# Retrieve Results"
   ]
  },
  {
   "cell_type": "markdown",
   "metadata": {
    "hideCode": false,
    "hidePrompt": false
   },
   "source": [
    "Use the TwitterTrawler object to retrieve the desired dataset. See `load_data.ipynb` for instructions on how to load the generated datasets from the `data` directory.\n",
    "\n",
    "ideas and todos:\n",
    "- two basic datasets: most popular, random sample (recent)\n",
    "- iterate over days, collect as many tweets as you want for each day.\n",
    "- The `params` dict allows for entering a bunch of parameters, check out the class above for more info.\n",
    "- for the popular dataset - track popularity over time?\n",
    "- we can retrieve more tweets by geocoding maybe?\n",
    "- sentiment analysis on finance data?\n",
    "- @Ersin - figure out (if you can) how to use a dev environment with Tweepy."
   ]
  },
  {
   "cell_type": "code",
   "execution_count": null,
   "metadata": {
    "hideCode": false,
    "hidePrompt": false
   },
   "outputs": [
    {
     "name": "stdout",
     "output_type": "stream",
     "text": [
      "('2020-03-11', '2020-03-18')\n"
     ]
    }
   ],
   "source": [
    "api = get_api()\n",
    "\n",
    "queries = ['coronavirus', 'COVID19', 'COVID-19', 'COVID_19', 'CoronaVirusUpdates',\n",
    "           'SafeHands']\n",
    "date_range = ('2020-03-11', '2020-03-18')\n",
    "n_tweets = 100\n",
    "\n",
    "    \n",
    "DATA_DIR.mkdir(exist_ok=True, parents=True)\n",
    "print(date_range)"
   ]
  },
  {
   "cell_type": "code",
   "execution_count": null,
   "metadata": {
    "hideCode": false,
    "hidePrompt": false,
    "scrolled": true
   },
   "outputs": [
    {
     "name": "stdout",
     "output_type": "stream",
     "text": [
      "\n",
      "\n",
      "*** RETRIEVING 10000>= MIXED RESULTS FROM 2020-03-11 TO 2020-03-18 ***\n",
      "\n",
      "\n"
     ]
    },
    {
     "name": "stderr",
     "output_type": "stream",
     "text": [
      "Rate limit reached. Sleeping for: 334\n"
     ]
    },
    {
     "name": "stdout",
     "output_type": "stream",
     "text": [
      "send: b'GET /1.1/search/tweets.json?q=coronavirus&count=100&lang=%5B%27en%27%2C+%27nl%27%2C+%27de%27%2C+%27fr%27%2C+%27it%27%5D&since=2020-03-11&until=2020-03-18&results_type=mixed&tweet_mode=extended HTTP/1.1\\r\\nAccept-Encoding: identity\\r\\nHost: api.twitter.com\\r\\nAuthorization: OAuth oauth_nonce=\"169212768624378293001584514602\", oauth_timestamp=\"1584514602\", oauth_version=\"1.0\", oauth_signature_method=\"HMAC-SHA1\", oauth_consumer_key=\"jrEWCn2eDNx0KLsqC9EJxIp9p\", oauth_token=\"276043201-uJPOMmGaj4R4K93tP3q7oP29z69lNSrsdHDvhfHl\", oauth_signature=\"DHwDLxCsh2F6K0bQM8FSjoxG%2FMg%3D\"\\r\\n\\r\\n'\n",
      "reply: 'HTTP/1.1 429 Too Many Requests\\r\\n'\n",
      "header: content-length: 56\n",
      "header: content-type: application/json;charset=utf-8\n",
      "header: date: Wed, 18 Mar 2020 06:56:42 GMT\n",
      "header: server: tsa_o\n",
      "header: set-cookie: personalization_id=\"v1_V4bmjsHiZNggDibUAYvCTA==\"; Max-Age=63072000; Expires=Fri, 18 Mar 2022 06:56:42 GMT; Path=/; Domain=.twitter.com; Secure; SameSite=None\n",
      "header: set-cookie: personalization_id=\"v1_V4bmjsHiZNggDibUAYvCTA==\"; Max-Age=63072000; Expires=Fri, 18 Mar 2022 06:56:42 GMT; Path=/; Domain=.twitter.com; Secure; SameSite=None\n",
      "header: strict-transport-security: max-age=631138519\n",
      "header: x-connection-hash: 76223bdc3b182fbfe6312905080e7b83\n",
      "header: x-rate-limit-limit: 180\n",
      "header: x-rate-limit-remaining: 0\n",
      "header: x-rate-limit-reset: 1584514936\n",
      "header: x-response-time: 116\n"
     ]
    }
   ],
   "source": [
    "trawler = TweetTrawler(api)\n",
    "\n",
    "# param dicts can be generated iteratively for grid search.\n",
    "params = {\n",
    "    'dates': date_range,\n",
    "    'n_tweets': 10000,\n",
    "    'lang': ['en', 'nl', 'de', 'fr', 'it'], # 'en', etc.\n",
    "    'results_type': 'mixed', # ['popular', 'recent', 'mixed']\n",
    "    'tweets_mode': 'extended'\n",
    "}\n",
    "\n",
    "for query in queries:\n",
    "    \n",
    "    done = False \n",
    "    while not done:\n",
    "        try:\n",
    "            trawler.search(query, **params)\n",
    "            \n",
    "            time.sleep(5)\n",
    "            done = True\n",
    "            \n",
    "        except:\n",
    "            print(f'trawler search failed on query {query}. Retrying query.')\n",
    "    \n",
    "    %notify -m f\"completed query {str(query)}\""
   ]
  },
  {
   "cell_type": "markdown",
   "metadata": {},
   "source": [
    "# More information retrieval"
   ]
  },
  {
   "cell_type": "code",
   "execution_count": null,
   "metadata": {},
   "outputs": [],
   "source": [
    "# return all the retweets of the most highly retweeted tweets?\n",
    "# more networking strategies to find more tweets?"
   ]
  },
  {
   "cell_type": "code",
   "execution_count": null,
   "metadata": {},
   "outputs": [],
   "source": []
  }
 ],
 "metadata": {
  "hide_code_all_hidden": false,
  "kernelspec": {
   "display_name": "Python 3",
   "language": "python",
   "name": "python3"
  },
  "language_info": {
   "codemirror_mode": {
    "name": "ipython",
    "version": 3
   },
   "file_extension": ".py",
   "mimetype": "text/x-python",
   "name": "python",
   "nbconvert_exporter": "python",
   "pygments_lexer": "ipython3",
   "version": "3.7.3"
  }
 },
 "nbformat": 4,
 "nbformat_minor": 2
}
